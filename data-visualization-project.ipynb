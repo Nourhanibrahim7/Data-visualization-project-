{
 "cells": [
  {
   "cell_type": "code",
   "execution_count": 1,
   "id": "6bffc09f",
   "metadata": {
    "_cell_guid": "b1076dfc-b9ad-4769-8c92-a6c4dae69d19",
    "_uuid": "8f2839f25d086af736a60e9eeb907d3b93b6e0e5",
    "execution": {
     "iopub.execute_input": "2023-12-02T09:27:32.910002Z",
     "iopub.status.busy": "2023-12-02T09:27:32.909108Z",
     "iopub.status.idle": "2023-12-02T09:27:33.231035Z",
     "shell.execute_reply": "2023-12-02T09:27:33.230107Z"
    },
    "papermill": {
     "duration": 0.32851,
     "end_time": "2023-12-02T09:27:33.234007",
     "exception": false,
     "start_time": "2023-12-02T09:27:32.905497",
     "status": "completed"
    },
    "tags": []
   },
   "outputs": [],
   "source": [
    "# This Python 3 environment comes with many helpful analytics libraries installed\n",
    "# It is defined by the kaggle/python Docker image: https://github.com/kaggle/docker-python\n",
    "# For example, here's several helpful packages to load\n",
    "\n",
    "import numpy as np # linear algebra\n",
    "import pandas as pd # data processing, CSV file I/O (e.g. pd.read_csv)\n",
    "\n",
    "# Input data files are available in the read-only \"../input/\" directory\n",
    "# For example, running this (by clicking run or pressing Shift+Enter) will list all files under the input directory\n",
    "\n",
    "import os\n",
    "for dirname, _, filenames in os.walk('/kaggle/input'):\n",
    "    for filename in filenames:\n",
    "        print(os.path.join(dirname, filename))\n",
    "\n",
    "# You can write up to 20GB to the current directory (/kaggle/working/) that gets preserved as output when you create a version using \"Save & Run All\" \n",
    "# You can also write temporary files to /kaggle/temp/, but they won't be saved outside of the current session"
   ]
  },
  {
   "cell_type": "code",
   "execution_count": null,
   "id": "ec1f0ba3",
   "metadata": {
    "papermill": {
     "duration": 0.001613,
     "end_time": "2023-12-02T09:27:33.238138",
     "exception": false,
     "start_time": "2023-12-02T09:27:33.236525",
     "status": "completed"
    },
    "tags": []
   },
   "outputs": [],
   "source": []
  },
  {
   "cell_type": "code",
   "execution_count": null,
   "id": "2f4d742e",
   "metadata": {
    "papermill": {
     "duration": 0.001523,
     "end_time": "2023-12-02T09:27:33.245684",
     "exception": false,
     "start_time": "2023-12-02T09:27:33.244161",
     "status": "completed"
    },
    "tags": []
   },
   "outputs": [],
   "source": []
  },
  {
   "cell_type": "code",
   "execution_count": null,
   "id": "c2a1f9a3",
   "metadata": {
    "papermill": {
     "duration": 0.001309,
     "end_time": "2023-12-02T09:27:33.248595",
     "exception": false,
     "start_time": "2023-12-02T09:27:33.247286",
     "status": "completed"
    },
    "tags": []
   },
   "outputs": [],
   "source": []
  }
 ],
 "metadata": {
  "kaggle": {
   "accelerator": "none",
   "dataSources": [],
   "isGpuEnabled": false,
   "isInternetEnabled": false,
   "language": "python",
   "sourceType": "notebook"
  },
  "kernelspec": {
   "display_name": "Python 3",
   "language": "python",
   "name": "python3"
  },
  "language_info": {
   "codemirror_mode": {
    "name": "ipython",
    "version": 3
   },
   "file_extension": ".py",
   "mimetype": "text/x-python",
   "name": "python",
   "nbconvert_exporter": "python",
   "pygments_lexer": "ipython3",
   "version": "3.10.12"
  },
  "papermill": {
   "default_parameters": {},
   "duration": 3.609823,
   "end_time": "2023-12-02T09:27:33.770255",
   "environment_variables": {},
   "exception": null,
   "input_path": "__notebook__.ipynb",
   "output_path": "__notebook__.ipynb",
   "parameters": {},
   "start_time": "2023-12-02T09:27:30.160432",
   "version": "2.4.0"
  }
 },
 "nbformat": 4,
 "nbformat_minor": 5
}
